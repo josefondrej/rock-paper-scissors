{
 "cells": [
  {
   "cell_type": "markdown",
   "metadata": {},
   "source": [
    "### Rock - Paper - Scissors Deep-Q Model "
   ]
  },
  {
   "cell_type": "markdown",
   "metadata": {},
   "source": [
    "Outcome of game is a vector of lenght 6 with 4 zeros and 2 ones. \n",
    "\n",
    "The first 3 entries represent the humans choice, tha last 3 the computers choice. \n",
    "\n",
    "For example [1, 0, 0, 0, 1, 0] means Rock - Paper (Human - Computer)."
   ]
  },
  {
   "cell_type": "code",
   "execution_count": 1,
   "metadata": {},
   "outputs": [
    {
     "name": "stderr",
     "output_type": "stream",
     "text": [
      "Using TensorFlow backend.\n"
     ]
    }
   ],
   "source": [
    "import numpy as np\n",
    "from keras import Sequential\n",
    "from keras.layers import LSTM, Dense\n",
    "from keras.optimizers import Adam\n",
    "from collections import deque\n",
    "import random\n",
    "from IPython.display import clear_output"
   ]
  },
  {
   "cell_type": "code",
   "execution_count": 2,
   "metadata": {},
   "outputs": [],
   "source": [
    "n = 2              # how many steps into the past to consider\n",
    "train_steps = 1000  # how many times to play the human\n",
    "\n",
    "def randargmax(b,**kw):\n",
    "    \"\"\" a random tie-breaking argmax\"\"\"\n",
    "    return np.argmax(np.random.random(b.shape) * (b==b.max()), **kw)"
   ]
  },
  {
   "cell_type": "code",
   "execution_count": 3,
   "metadata": {},
   "outputs": [],
   "source": [
    "class Human(object):\n",
    "    \"\"\" Serves as an environment for the agent \n",
    "    \"\"\"\n",
    "    \n",
    "    def __init__(self): \n",
    "        self.reward_table = np.array([[0, -1, 1],\n",
    "                                      [1, 0, -1],\n",
    "                                      [-1, 1, 0]])\n",
    "    \n",
    "    def step(self, action):\n",
    "        # human_act = np.random.choice(3)\n",
    "        human_act = input(\"Enter your action (0 = rock, 1 = paper, 2 = scissors)  \")\n",
    "        human_act = int(human_act)\n",
    "        observation = np.zeros(6)\n",
    "        observation[human_act] = 1\n",
    "        observation[3+action] = 1\n",
    "        reward = self.reward_table[action, human_act]\n",
    "        return observation, reward "
   ]
  },
  {
   "cell_type": "code",
   "execution_count": 4,
   "metadata": {},
   "outputs": [],
   "source": [
    "class Agent(object): \n",
    "    \"\"\" Rock - Paper - Scissors playing agent \n",
    "    \"\"\"\n",
    "    \n",
    "    def __init__(self):\n",
    "        \n",
    "        self.memory = deque(maxlen = 50)\n",
    "        \n",
    "        self.epsilon = 0.5\n",
    "        self.epsilon_min = 0.1\n",
    "        self.epsilon_decay = 0.9\n",
    "        \n",
    "        self.gamma = 0.8\n",
    "        self.tau = 0.125\n",
    "        \n",
    "        self.batch_size = 10\n",
    "        self.learning_rate = 0.1\n",
    "        \n",
    "        self.model = self.create_model()\n",
    "        self.target_model = self.create_model()\n",
    "    \n",
    "    def create_model(self):\n",
    "        model = Sequential()\n",
    "        model.add(LSTM(8, input_shape=(n,6), return_sequences=False))\n",
    "        model.add(Dense(3, activation=\"relu\"))\n",
    "        model.compile(loss=\"mse\", optimizer=Adam(lr=self.learning_rate))\n",
    "        return model\n",
    "    \n",
    "    def act(self, state):\n",
    "        _ = self.model.predict(np.expand_dims(state, axis = 0))[0]\n",
    "        self.epsilon = max(self.epsilon * self.epsilon_decay, self.epsilon_min)\n",
    "        if np.random.uniform() < self.epsilon: \n",
    "            return np.random.choice(3), _\n",
    "        else:\n",
    "            return randargmax(self.model.predict(np.expand_dims(state, axis = 0))[0]), _\n",
    "        \n",
    "    def remember(self, state, action, reward, new_state):\n",
    "        self.memory.append([state, action, reward, new_state])\n",
    "        \n",
    "    def replay(self):\n",
    "        if len(self.memory) < self.batch_size:\n",
    "            return\n",
    "        batch = random.sample(self.memory, self.batch_size)\n",
    "        \n",
    "        states, states_new = [np.stack([b[i] for b in batch]) for i in [0, 3]]\n",
    "        actions, rewards = [np.array([b[i] for b in batch]) for i in [1, 2]]\n",
    "            \n",
    "        max_Q = np.max(self.target_model.predict(states_new), axis = 1)\n",
    "    \n",
    "        targets = self.model.predict(states)\n",
    "        targets[range(self.batch_size), actions] = rewards + self.gamma * max_Q # The game goes on and on, \n",
    "                                                                           # there is no terminal state \n",
    "                                                                           # so there is always the \n",
    "                                                                           # gamma * Q expression                    \n",
    "        self.model.fit(states, targets, verbose = 0)   \n",
    "    \n",
    "    def target_update(self): \n",
    "        weights = self.model.get_weights()\n",
    "        target_weights = self.target_model.get_weights()\n",
    "        for i in range(len(target_weights)):\n",
    "            target_weights[i] = weights[i] * self.tau + target_weights[i] * (1 - self.tau)\n",
    "        self.target_model.set_weights(target_weights)\n",
    "    "
   ]
  },
  {
   "cell_type": "code",
   "execution_count": null,
   "metadata": {},
   "outputs": [
    {
     "name": "stdout",
     "output_type": "stream",
     "text": [
      "[1.3951781  0.46694255 0.        ]\n",
      "computer won\n",
      "Game:  18\n",
      "Computer won:  11\n",
      "Human won:  5\n",
      "-----------------------------------------------------\n"
     ]
    }
   ],
   "source": [
    "state = np.ones((n, 6))\n",
    "human = Human()\n",
    "agent = Agent()\n",
    "computer_won = 0\n",
    "human_won = 0\n",
    "\n",
    "for i in range(train_steps):\n",
    "    clear_output(wait=True)\n",
    "    action, qs = agent.act(state)\n",
    "    obs, reward = human.step(action)\n",
    "    \n",
    "    computer_won += max(reward, 0)\n",
    "    human_won += max(-reward, 0)\n",
    "    last_game_outcome = [\"human won\", \"tie\", \"computer won\"][reward+1]\n",
    "    print(qs)\n",
    "    print(last_game_outcome)\n",
    "    print(\"Game: \", i)\n",
    "    print(\"Computer won: \", computer_won)\n",
    "    print(\"Human won: \", human_won)\n",
    "    print(\"-----------------------------------------------------\")\n",
    "    state_new = np.concatenate([state, np.expand_dims(obs, axis=0)])[1:]\n",
    "    agent.remember(state, action, reward, state_new)\n",
    "    agent.replay()\n",
    "    agent.target_update()\n",
    "    \n",
    "    "
   ]
  },
  {
   "cell_type": "code",
   "execution_count": null,
   "metadata": {},
   "outputs": [],
   "source": []
  },
  {
   "cell_type": "code",
   "execution_count": null,
   "metadata": {},
   "outputs": [],
   "source": []
  },
  {
   "cell_type": "code",
   "execution_count": null,
   "metadata": {},
   "outputs": [],
   "source": []
  }
 ],
 "metadata": {
  "kernelspec": {
   "display_name": "Python 3",
   "language": "python",
   "name": "python3"
  },
  "language_info": {
   "codemirror_mode": {
    "name": "ipython",
    "version": 3
   },
   "file_extension": ".py",
   "mimetype": "text/x-python",
   "name": "python",
   "nbconvert_exporter": "python",
   "pygments_lexer": "ipython3",
   "version": "3.7.0b3"
  }
 },
 "nbformat": 4,
 "nbformat_minor": 2
}
