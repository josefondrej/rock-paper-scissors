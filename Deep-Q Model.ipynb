{
 "cells": [
  {
   "cell_type": "markdown",
   "metadata": {},
   "source": [
    "### Rock - Paper - Scissors Deep-Q Model "
   ]
  },
  {
   "cell_type": "markdown",
   "metadata": {},
   "source": [
    "Outcome of game is a vector of lenght 6 with 4 zeros and 2 ones. \n",
    "\n",
    "The first 3 entries represent the humans choice, tha last 3 the computers choice. \n",
    "\n",
    "For example [1, 0, 0, 0, 1, 0] means Rock - Paper (Human - Computer)."
   ]
  },
  {
   "cell_type": "code",
   "execution_count": 6,
   "metadata": {},
   "outputs": [],
   "source": [
    "import numpy as np\n",
    "from keras import Sequential\n",
    "from keras.layers import LSTM, Dense\n",
    "from keras.optimizers import Adam\n",
    "from collections import deque\n",
    "import random"
   ]
  },
  {
   "cell_type": "code",
   "execution_count": 7,
   "metadata": {},
   "outputs": [],
   "source": [
    "n = 10              # how many steps into the past to consider\n",
    "train_steps = 1000  # how many times to play the human"
   ]
  },
  {
   "cell_type": "code",
   "execution_count": 8,
   "metadata": {},
   "outputs": [],
   "source": [
    "class Human(object):\n",
    "    \"\"\" Serves as an environment for the agent \n",
    "    \"\"\"\n",
    "    \n",
    "    def __init__(self): \n",
    "        self.reward_table = np.array([[0, 1, -1],\n",
    "                                      [-1, 0, 1],\n",
    "                                      [1, -1, 0]])\n",
    "    \n",
    "    def step(self, action):\n",
    "        human_act = np.random.choice(3)\n",
    "        observation = np.zeros(6)\n",
    "        observation[human_act] = 1\n",
    "        observation[3+action] = 1\n",
    "        reward = self.reward_table[action, human_act]\n",
    "        return observation, reward "
   ]
  },
  {
   "cell_type": "code",
   "execution_count": 9,
   "metadata": {},
   "outputs": [],
   "source": [
    "class Agent(object): \n",
    "    \n",
    "    def __init__(self):\n",
    "        \n",
    "        self.memory = deque(maxlen = 50)\n",
    "        \n",
    "        self.epsilon = 1.0\n",
    "        self.epsilon_min = 0.3\n",
    "        self.epsilon_decay = 0.95\n",
    "        \n",
    "        self.gamma = 0.8\n",
    "        self.tau = 0.125\n",
    "        \n",
    "        self.batch_size = 10\n",
    "        self.learning_rate = 0.01\n",
    "        \n",
    "        self.model = self.create_model()\n",
    "        self.target_model = self.create_model()\n",
    "    \n",
    "    def create_model(self):\n",
    "        model = Sequential()\n",
    "        model.add(LSTM(16, input_shape=(n,6), return_sequences=False))\n",
    "        model.add(Dense(16, activation=\"relu\"))\n",
    "        model.add(Dense(3, activation=\"relu\"))\n",
    "        model.compile(loss=\"mse\", optimizer=Adam(lr=self.learning_rate))\n",
    "        return model\n",
    "    \n",
    "    def act(self, state):\n",
    "        self.epsilon = max(self.epsilon * self.epsilon_decay, self.epsilon_min)\n",
    "        if np.random.uniform() < self.epsilon: \n",
    "            return np.random.choice(3)\n",
    "        else:\n",
    "            return np.argmax(self.model.predict(np.expand_dims(state, axis = 0))[0])\n",
    "    \n",
    "    def remember(self, state, action, reward, new_state):\n",
    "        self.memory.append([state, action, reward, new_state])\n",
    "        \n",
    "    def replay(self):\n",
    "        if len(self.memory) < self.batch_size:\n",
    "            return\n",
    "        batch = random.sample(self.memory, self.batch_size)\n",
    "        \n",
    "        states, states_new = [np.stack([b[i] for b in batch]) for i in [0, 3]]\n",
    "        actions, rewards = [np.array([b[i] for b in batch]) for i in [1, 2]]\n",
    "            \n",
    "        max_Q = np.max(self.target_model.predict(states_new), axis = 1)\n",
    "    \n",
    "        targets = self.model.predict(states)\n",
    "        targets[range(self.batch_size), actions] = rewards + self.gamma * max_Q # The game goes on and on, \n",
    "                                                                           # there is no terminal state \n",
    "                                                                           # so there is always the \n",
    "                                                                           # gamma * Q expression                    \n",
    "        self.model.fit(states, targets, verbose = 0)   \n",
    "    \n",
    "    def target_update(self): \n",
    "        weights = self.model.get_weights()\n",
    "        target_weights = self.target_model.get_weights()\n",
    "        for i in range(len(target_weights)):\n",
    "            target_weights[i] = weights[i] * self.tau + target_weights[i] * (1 - self.tau)\n",
    "        self.target_model.set_weights(target_weights)\n",
    "    "
   ]
  },
  {
   "cell_type": "code",
   "execution_count": 11,
   "metadata": {},
   "outputs": [
    {
     "name": "stdout",
     "output_type": "stream",
     "text": [
      "(10, 10, 6)\n"
     ]
    }
   ],
   "source": [
    "state = np.zeros((n, 6))\n",
    "human = Human()\n",
    "agent = Agent()\n",
    "\n",
    "for i in range(train_steps):\n",
    "    action = agent.act(state)\n",
    "    obs, reward = human.step(action)\n",
    "    state_new = np.concatenate([state, np.expand_dims(obs, axis=0)])[1:]\n",
    "    agent.remember(state, action, reward, state_new)\n",
    "    agent.replay()\n",
    "    agent.target_update()"
   ]
  },
  {
   "cell_type": "code",
   "execution_count": null,
   "metadata": {},
   "outputs": [],
   "source": []
  }
 ],
 "metadata": {
  "kernelspec": {
   "display_name": "Python 3",
   "language": "python",
   "name": "python3"
  },
  "language_info": {
   "codemirror_mode": {
    "name": "ipython",
    "version": 3
   },
   "file_extension": ".py",
   "mimetype": "text/x-python",
   "name": "python",
   "nbconvert_exporter": "python",
   "pygments_lexer": "ipython3",
   "version": "3.7.0b3"
  }
 },
 "nbformat": 4,
 "nbformat_minor": 2
}
