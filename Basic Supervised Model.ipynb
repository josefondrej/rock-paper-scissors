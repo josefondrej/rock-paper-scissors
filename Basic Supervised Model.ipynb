{
 "cells": [
  {
   "cell_type": "markdown",
   "metadata": {},
   "source": [
    "Rock - Paper - Scissors \n",
    "================="
   ]
  },
  {
   "cell_type": "code",
   "execution_count": 1,
   "metadata": {},
   "outputs": [],
   "source": [
    "import numpy as np\n",
    "import tensorflow as tf\n",
    "import matplotlib.pyplot as plt\n",
    "from IPython.display import clear_output\n",
    "\n",
    "intX = tf.int32\n",
    "floatX = tf.float32"
   ]
  },
  {
   "cell_type": "code",
   "execution_count": 2,
   "metadata": {},
   "outputs": [],
   "source": [
    "batch_size = 256              ## batch size \n",
    "num_steps = 8                 ## how far back to propagate the gradient in rnn \n",
    "state_size = 16               ## size of the hidden state of rnn cell \n",
    "learning_rate = 0.1           ## learning rate for the optimizer\n",
    "epochs = 2                    ## number of epochs\n",
    "\n",
    "gen_data_size = 200000        ## size of generated data"
   ]
  },
  {
   "cell_type": "markdown",
   "metadata": {},
   "source": [
    "### Generate some data"
   ]
  },
  {
   "cell_type": "code",
   "execution_count": 3,
   "metadata": {
    "code_folding": [
     0,
     15
    ]
   },
   "outputs": [],
   "source": [
    "def gen_data(size = gen_data_size): \n",
    "    \"\"\" \n",
    "    Generate rock - paper - scissors game sequence \n",
    "    \n",
    "    Args: \n",
    "    size -- A `int`, number of games \n",
    "    \n",
    "    Returns: \n",
    "    x, y -- Two `np.array(int)` arrays, each containing `size` numbers \n",
    "        from the set {0, 1, 2} which stand for {rock, paper, scissors} \n",
    "        respectively \n",
    "    \"\"\"\n",
    "    x, y = (np.random.choice(3, size) for i in (0, 1))\n",
    "    return x, y\n",
    "\n",
    "def gen_batch(raw_data, batch_size = batch_size, num_steps = num_steps): \n",
    "    \"\"\"\n",
    "    Creates generator of batched data \n",
    "    \n",
    "    Args: \n",
    "    raw_data -- A `pair` of `np.array` of shape (None,), result of `gen_data()`\n",
    "    batch_size -- A `int`, size of the batch \n",
    "    num_steps -- A `int`, how many steps should we propagate the gradient back\n",
    "    \n",
    "    Returns: \n",
    "    x, y, y_next -- A triple of np.array of shape batch_size x num_steps \n",
    "        containing values {0, 1, 2}. The arrays represent my moves, opponents \n",
    "        moves and opponents next moves. \n",
    "    \"\"\"\n",
    "    data_length = len(raw_data[0])\n",
    "    batch_length = data_length // batch_size \n",
    "    data_x, data_y = [raw_data[i][0 : batch_size * batch_length].reshape(batch_size, batch_length) \\\n",
    "                    for i in (0, 1)]\n",
    "    data_y_next = np.pad(data_y, ((0,0),(0,1)), \"constant\")[:, 1:]\n",
    "    \n",
    "    epoch_size = batch_length // num_steps\n",
    "    for i in range(epoch_size): \n",
    "        x = data_x[:, i * num_steps : (i+1) * num_steps]\n",
    "        y = data_y[:, i * num_steps : (i+1) * num_steps]\n",
    "        y_next = data_y_next[:, i * num_steps : (i+1) * num_steps]\n",
    "        yield x, y, y_next"
   ]
  },
  {
   "cell_type": "markdown",
   "metadata": {},
   "source": [
    "### Build the Model"
   ]
  },
  {
   "cell_type": "code",
   "execution_count": 10,
   "metadata": {},
   "outputs": [],
   "source": [
    "## Inputs \n",
    "x = tf.placeholder(intX, [batch_size, num_steps], name = \"my_moves\")\n",
    "y = tf.placeholder(intX, [batch_size, num_steps], name = \"opponents_moves\")\n",
    "y_next = tf.placeholder(intX, [batch_size, num_steps], name = \"opponents_next_moves\")\n",
    "\n",
    "## One hot representations of inputs \n",
    "x_one_hot = tf.one_hot(x, depth = 3, name = \"y_one_hot\")\n",
    "y_one_hot = tf.one_hot(y, depth = 3, name = \"y_one_hot\")\n",
    "y_next_one_hot = tf.one_hot(y_next, depth = 3, name = \"y__one_hot\")\n",
    "xy_one_hot = tf.concat([x_one_hot, y_one_hot], axis=2, name = \"xy_one_hot\")\n",
    "\n",
    "## RNN\n",
    "cell = tf.nn.rnn_cell.LSTMCell(state_size)\n",
    "init_state = cell.zero_state(batch_size, floatX)\n",
    "\n",
    "rnn_outputs, final_state = tf.nn.dynamic_rnn(cell = cell,  \n",
    "                                             inputs = xy_one_hot,  \n",
    "                                             initial_state = init_state)\n",
    "\n",
    "logits = tf.layers.dense(inputs = rnn_outputs, units = 3, activation = None, name = \"logits\")\n",
    "predictions = tf.nn.softmax(logits, name = \"predictions\")\n",
    "\n",
    "## Loss and Optimizer \n",
    "losses = tf.nn.softmax_cross_entropy_with_logits(labels = y_next_one_hot, logits = logits)\n",
    "total_loss = tf.reduce_mean(losses)\n",
    "train_step = tf.train.AdamOptimizer(learning_rate).minimize(total_loss)"
   ]
  },
  {
   "cell_type": "markdown",
   "metadata": {},
   "source": [
    "### Train the Model \n",
    "\n",
    "In the case of generating rock - paper - scissors at random, the resulting cross entropy should be \n",
    "\n",
    "$$ - \\log(1/3) \\approx 1.09 $$ "
   ]
  },
  {
   "cell_type": "code",
   "execution_count": 15,
   "metadata": {},
   "outputs": [
    {
     "data": {
      "image/png": "[encoded data removed]",
      "text/plain": [
       "<matplotlib.figure.Figure at 0xc92f358>"
      ]
     },
     "metadata": {},
     "output_type": "display_data"
    }
   ],
   "source": [
    "training_losses = []\n",
    "data = gen_data()\n",
    "\n",
    "with tf.Session() as sess: \n",
    "    sess.run(tf.global_variables_initializer())\n",
    "    for e in range(epochs): \n",
    "        batch_generator = gen_batch(data)\n",
    "        for i, batch in enumerate(batch_generator): \n",
    "            init_state_ = sess.run(init_state)\n",
    "            total_loss_, final_state_, _ = \\\n",
    "                sess.run(fetches = [total_loss, \n",
    "                                    final_state, \n",
    "                                    train_step], \n",
    "                         feed_dict = {x : batch[0], \n",
    "                                      y : batch[1], \n",
    "                                      y_next : batch[2], \n",
    "                                      init_state : init_state_})\n",
    "                \n",
    "            training_losses.append(total_loss_)\n",
    "\n",
    "            if i % 10 == 0:\n",
    "                clear_output(wait=True)\n",
    "                plt.figure(figsize = (15,5))\n",
    "                plt.ylim(0.8, 1.5)\n",
    "                plt.plot(training_losses)\n",
    "                plt.xlabel(\"Iterations\")\n",
    "                plt.ylabel(\"Average cross-entropy\")\n",
    "                plt.title(\"Training ... (epoch \"+str(e)+\")\")\n",
    "                plt.grid()\n",
    "                plt.show()"
   ]
  },
  {
   "cell_type": "code",
   "execution_count": null,
   "metadata": {},
   "outputs": [],
   "source": []
  }
 ],
 "metadata": {
  "kernelspec": {
   "display_name": "Python 3",
   "language": "python",
   "name": "python3"
  },
  "language_info": {
   "codemirror_mode": {
    "name": "ipython",
    "version": 3
   },
   "file_extension": ".py",
   "mimetype": "text/x-python",
   "name": "python",
   "nbconvert_exporter": "python",
   "pygments_lexer": "ipython3",
   "version": "3.6.3"
  }
 },
 "nbformat": 4,
 "nbformat_minor": 2
}
